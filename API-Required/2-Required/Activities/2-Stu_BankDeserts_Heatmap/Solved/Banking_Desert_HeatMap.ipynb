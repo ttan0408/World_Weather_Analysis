{
 "cells": [
  {
   "cell_type": "markdown",
   "metadata": {},
   "source": [
    "# Banking and Unemployment\n",
    "---\n",
    "The below script explores the relationship between states with high unemployment rates and bank counts per state.\n",
    "\n",
    "In this script, we retrieved and plotted data from the 2013 US Census and Google Places API to show the relationship between various socioeconomic parameters and bank count across 700 randomly selected zip codes. We used Pandas, Numpy, Matplotlib, Requests, Census API, and Google API to accomplish our task."
   ]
  },
  {
   "cell_type": "code",
   "execution_count": 3,
   "metadata": {},
   "outputs": [
    {
     "ename": "ModuleNotFoundError",
     "evalue": "No module named 'us'",
     "output_type": "error",
     "traceback": [
      "\u001b[1;31m---------------------------------------------------------------------------\u001b[0m",
      "\u001b[1;31mModuleNotFoundError\u001b[0m                       Traceback (most recent call last)",
      "\u001b[1;32m<ipython-input-3-91bd2d4b35a9>\u001b[0m in \u001b[0;36m<module>\u001b[1;34m\u001b[0m\n\u001b[0;32m      7\u001b[0m \u001b[1;32mimport\u001b[0m \u001b[0mrequests\u001b[0m\u001b[1;33m\u001b[0m\u001b[1;33m\u001b[0m\u001b[0m\n\u001b[0;32m      8\u001b[0m \u001b[1;32mimport\u001b[0m \u001b[0mtime\u001b[0m\u001b[1;33m\u001b[0m\u001b[1;33m\u001b[0m\u001b[0m\n\u001b[1;32m----> 9\u001b[1;33m \u001b[1;32mfrom\u001b[0m \u001b[0mus\u001b[0m \u001b[1;32mimport\u001b[0m \u001b[0mstates\u001b[0m\u001b[1;33m\u001b[0m\u001b[1;33m\u001b[0m\u001b[0m\n\u001b[0m\u001b[0;32m     10\u001b[0m \u001b[1;33m\u001b[0m\u001b[0m\n\u001b[0;32m     11\u001b[0m \u001b[1;33m\u001b[0m\u001b[0m\n",
      "\u001b[1;31mModuleNotFoundError\u001b[0m: No module named 'us'"
     ]
    }
   ],
   "source": [
    "# Dependencies\n",
    "from census import Census\n",
    "from config import (census_key, gkey)\n",
    "import gmaps\n",
    "import numpy as np\n",
    "import pandas as pd\n",
    "import requests\n",
    "import time\n",
    "from us import states\n",
    "\n",
    "\n",
    "# Census API Key\n",
    "c = Census(census_key, year=2013)"
   ]
  },
  {
   "cell_type": "markdown",
   "metadata": {},
   "source": [
    "## Data Retrieval"
   ]
  },
  {
   "cell_type": "code",
   "execution_count": 1,
   "metadata": {},
   "outputs": [
    {
     "ename": "NameError",
     "evalue": "name 'c' is not defined",
     "output_type": "error",
     "traceback": [
      "\u001b[1;31m---------------------------------------------------------------------------\u001b[0m",
      "\u001b[1;31mNameError\u001b[0m                                 Traceback (most recent call last)",
      "\u001b[1;32m<ipython-input-1-8aea027b7664>\u001b[0m in \u001b[0;36m<module>\u001b[1;34m\u001b[0m\n\u001b[0;32m      2\u001b[0m \u001b[1;31m# See: https://github.com/CommerceDataService/census-wrapper for library documentation\u001b[0m\u001b[1;33m\u001b[0m\u001b[1;33m\u001b[0m\u001b[1;33m\u001b[0m\u001b[0m\n\u001b[0;32m      3\u001b[0m \u001b[1;31m# See: https://gist.github.com/afhaque/60558290d6efd892351c4b64e5c01e9b for labels\u001b[0m\u001b[1;33m\u001b[0m\u001b[1;33m\u001b[0m\u001b[1;33m\u001b[0m\u001b[0m\n\u001b[1;32m----> 4\u001b[1;33m census_data = c.acs5.get((\"B01003_001E\", \"B17001_002E\"), {\n\u001b[0m\u001b[0;32m      5\u001b[0m                          'for': 'zip code tabulation area:*'})\n\u001b[0;32m      6\u001b[0m \u001b[1;33m\u001b[0m\u001b[0m\n",
      "\u001b[1;31mNameError\u001b[0m: name 'c' is not defined"
     ]
    }
   ],
   "source": [
    "# Run Census Search to retrieve data on all zip codes (2013 ACS5 Census)\n",
    "# See: https://github.com/CommerceDataService/census-wrapper for library documentation\n",
    "# See: https://gist.github.com/afhaque/60558290d6efd892351c4b64e5c01e9b for labels\n",
    "census_data = c.acs5.get((\"B01003_001E\", \"B17001_002E\"), {\n",
    "                         'for': 'zip code tabulation area:*'})\n",
    "\n",
    "# Convert to DataFrame\n",
    "census_pd = pd.DataFrame(census_data)\n",
    "\n",
    "# Column Reordering\n",
    "census_pd = census_pd.rename(columns={\"B01003_001E\": \"Population\",\n",
    "                                      \"B17001_002E\": \"Poverty Count\",\n",
    "                                      \"zip code tabulation area\": \"Zipcode\"})\n",
    "\n",
    "# Add in Employment Rate (Employment Count / Population)\n",
    "census_pd[\"Poverty Rate\"] = 100 * \\\n",
    "    census_pd[\"Poverty Count\"].astype(\n",
    "        int) / census_pd[\"Population\"].astype(int)\n",
    "\n",
    "# Final DataFrame\n",
    "census_pd = census_pd[[\"Zipcode\", \"Population\", \"Poverty Rate\"]]\n",
    "\n",
    "# Visualize\n",
    "print(len(census_pd))\n",
    "census_pd.head()"
   ]
  },
  {
   "cell_type": "markdown",
   "metadata": {},
   "source": [
    "## Combine Data"
   ]
  },
  {
   "cell_type": "code",
   "execution_count": 5,
   "metadata": {},
   "outputs": [
    {
     "data": {
      "text/html": [
       "<div>\n",
       "<style scoped>\n",
       "    .dataframe tbody tr th:only-of-type {\n",
       "        vertical-align: middle;\n",
       "    }\n",
       "\n",
       "    .dataframe tbody tr th {\n",
       "        vertical-align: top;\n",
       "    }\n",
       "\n",
       "    .dataframe thead th {\n",
       "        text-align: right;\n",
       "    }\n",
       "</style>\n",
       "<table border=\"1\" class=\"dataframe\">\n",
       "  <thead>\n",
       "    <tr style=\"text-align: right;\">\n",
       "      <th></th>\n",
       "      <th>Zipcode</th>\n",
       "      <th>Address</th>\n",
       "      <th>Median Age</th>\n",
       "      <th>Household Income</th>\n",
       "      <th>Per Capita Income</th>\n",
       "      <th>Lat</th>\n",
       "      <th>Lng</th>\n",
       "      <th>Bank Count</th>\n",
       "    </tr>\n",
       "  </thead>\n",
       "  <tbody>\n",
       "    <tr>\n",
       "      <th>0</th>\n",
       "      <td>624</td>\n",
       "      <td>Hastings, MI 49058, USA</td>\n",
       "      <td>40.8</td>\n",
       "      <td>46777</td>\n",
       "      <td>22137</td>\n",
       "      <td>42.6306916</td>\n",
       "      <td>-85.2929384</td>\n",
       "      <td>9</td>\n",
       "    </tr>\n",
       "    <tr>\n",
       "      <th>1</th>\n",
       "      <td>692</td>\n",
       "      <td>Ball, LA 71405, USA</td>\n",
       "      <td>35.8</td>\n",
       "      <td>55242</td>\n",
       "      <td>23941</td>\n",
       "      <td>31.4061799</td>\n",
       "      <td>-92.396174</td>\n",
       "      <td>12</td>\n",
       "    </tr>\n",
       "    <tr>\n",
       "      <th>2</th>\n",
       "      <td>730</td>\n",
       "      <td>Great Mills, MD 20634, USA</td>\n",
       "      <td>31.9</td>\n",
       "      <td>79944</td>\n",
       "      <td>35961</td>\n",
       "      <td>38.2201614</td>\n",
       "      <td>-76.4967919</td>\n",
       "      <td>9</td>\n",
       "    </tr>\n",
       "    <tr>\n",
       "      <th>3</th>\n",
       "      <td>757</td>\n",
       "      <td>Williamsport, TN 38487, USA</td>\n",
       "      <td>41.6</td>\n",
       "      <td>38125</td>\n",
       "      <td>18884</td>\n",
       "      <td>35.7310368</td>\n",
       "      <td>-87.2419299</td>\n",
       "      <td>0</td>\n",
       "    </tr>\n",
       "    <tr>\n",
       "      <th>4</th>\n",
       "      <td>957</td>\n",
       "      <td>Marion, ND 58466, USA</td>\n",
       "      <td>44.5</td>\n",
       "      <td>69844</td>\n",
       "      <td>36981</td>\n",
       "      <td>46.5594224</td>\n",
       "      <td>-98.3481542</td>\n",
       "      <td>1</td>\n",
       "    </tr>\n",
       "  </tbody>\n",
       "</table>\n",
       "</div>"
      ],
      "text/plain": [
       "  Zipcode                      Address Median Age Household Income  \\\n",
       "0     624      Hastings, MI 49058, USA       40.8            46777   \n",
       "1     692          Ball, LA 71405, USA       35.8            55242   \n",
       "2     730   Great Mills, MD 20634, USA       31.9            79944   \n",
       "3     757  Williamsport, TN 38487, USA       41.6            38125   \n",
       "4     957        Marion, ND 58466, USA       44.5            69844   \n",
       "\n",
       "  Per Capita Income         Lat          Lng Bank Count  \n",
       "0             22137  42.6306916  -85.2929384          9  \n",
       "1             23941  31.4061799   -92.396174         12  \n",
       "2             35961  38.2201614  -76.4967919          9  \n",
       "3             18884  35.7310368  -87.2419299          0  \n",
       "4             36981  46.5594224  -98.3481542          1  "
      ]
     },
     "execution_count": 5,
     "metadata": {},
     "output_type": "execute_result"
    }
   ],
   "source": [
    "# Import the original data we analyzed earlier. Use dtype=\"object\" to match other\n",
    "census_data_original = pd.read_csv(\n",
    "    \"../Resources/zip_bank_data.csv\", dtype=\"object\", encoding=\"utf-8\")\n",
    "\n",
    "# Visualize\n",
    "census_data_original.head()"
   ]
  },
  {
   "cell_type": "code",
   "execution_count": 6,
   "metadata": {},
   "outputs": [
    {
     "data": {
      "text/html": [
       "<div>\n",
       "<style scoped>\n",
       "    .dataframe tbody tr th:only-of-type {\n",
       "        vertical-align: middle;\n",
       "    }\n",
       "\n",
       "    .dataframe tbody tr th {\n",
       "        vertical-align: top;\n",
       "    }\n",
       "\n",
       "    .dataframe thead th {\n",
       "        text-align: right;\n",
       "    }\n",
       "</style>\n",
       "<table border=\"1\" class=\"dataframe\">\n",
       "  <thead>\n",
       "    <tr style=\"text-align: right;\">\n",
       "      <th></th>\n",
       "      <th>Zipcode</th>\n",
       "      <th>Address</th>\n",
       "      <th>Median Age</th>\n",
       "      <th>Household Income</th>\n",
       "      <th>Per Capita Income</th>\n",
       "      <th>Lat</th>\n",
       "      <th>Lng</th>\n",
       "      <th>Bank Count</th>\n",
       "      <th>Population</th>\n",
       "      <th>Poverty Rate</th>\n",
       "    </tr>\n",
       "  </thead>\n",
       "  <tbody>\n",
       "    <tr>\n",
       "      <th>63</th>\n",
       "      <td>10007</td>\n",
       "      <td>Flatonia, TX 78941, USA</td>\n",
       "      <td>45.7</td>\n",
       "      <td>40304</td>\n",
       "      <td>23115</td>\n",
       "      <td>29.7574106</td>\n",
       "      <td>-97.1574784</td>\n",
       "      <td>0</td>\n",
       "      <td>6525.0</td>\n",
       "      <td>2.206897</td>\n",
       "    </tr>\n",
       "    <tr>\n",
       "      <th>64</th>\n",
       "      <td>10303</td>\n",
       "      <td>Nevada, IA 50201, USA</td>\n",
       "      <td>40.4</td>\n",
       "      <td>56619</td>\n",
       "      <td>28908</td>\n",
       "      <td>42.065743</td>\n",
       "      <td>-93.4599326</td>\n",
       "      <td>7</td>\n",
       "      <td>24537.0</td>\n",
       "      <td>21.828259</td>\n",
       "    </tr>\n",
       "    <tr>\n",
       "      <th>65</th>\n",
       "      <td>10309</td>\n",
       "      <td>Lukachukai, AZ 86507, USA</td>\n",
       "      <td>24.1</td>\n",
       "      <td>22009</td>\n",
       "      <td>8346</td>\n",
       "      <td>36.4106866</td>\n",
       "      <td>-109.2593642</td>\n",
       "      <td>0</td>\n",
       "      <td>32646.0</td>\n",
       "      <td>6.766526</td>\n",
       "    </tr>\n",
       "    <tr>\n",
       "      <th>66</th>\n",
       "      <td>10553</td>\n",
       "      <td>Lone Pine, CA 93545, USA</td>\n",
       "      <td>40.6</td>\n",
       "      <td>32473</td>\n",
       "      <td>18444</td>\n",
       "      <td>36.5131184</td>\n",
       "      <td>-118.0888578</td>\n",
       "      <td>0</td>\n",
       "      <td>9895.0</td>\n",
       "      <td>15.260232</td>\n",
       "    </tr>\n",
       "    <tr>\n",
       "      <th>67</th>\n",
       "      <td>10803</td>\n",
       "      <td>Niagara, WI 54151, USA</td>\n",
       "      <td>45.7</td>\n",
       "      <td>45813</td>\n",
       "      <td>23500</td>\n",
       "      <td>45.715354</td>\n",
       "      <td>-87.9804239</td>\n",
       "      <td>2</td>\n",
       "      <td>12439.0</td>\n",
       "      <td>3.006673</td>\n",
       "    </tr>\n",
       "  </tbody>\n",
       "</table>\n",
       "</div>"
      ],
      "text/plain": [
       "   Zipcode                    Address Median Age Household Income  \\\n",
       "63   10007    Flatonia, TX 78941, USA       45.7            40304   \n",
       "64   10303      Nevada, IA 50201, USA       40.4            56619   \n",
       "65   10309  Lukachukai, AZ 86507, USA       24.1            22009   \n",
       "66   10553   Lone Pine, CA 93545, USA       40.6            32473   \n",
       "67   10803     Niagara, WI 54151, USA       45.7            45813   \n",
       "\n",
       "   Per Capita Income         Lat           Lng Bank Count  Population  \\\n",
       "63             23115  29.7574106   -97.1574784          0      6525.0   \n",
       "64             28908   42.065743   -93.4599326          7     24537.0   \n",
       "65              8346  36.4106866  -109.2593642          0     32646.0   \n",
       "66             18444  36.5131184  -118.0888578          0      9895.0   \n",
       "67             23500   45.715354   -87.9804239          2     12439.0   \n",
       "\n",
       "    Poverty Rate  \n",
       "63      2.206897  \n",
       "64     21.828259  \n",
       "65      6.766526  \n",
       "66     15.260232  \n",
       "67      3.006673  "
      ]
     },
     "execution_count": 6,
     "metadata": {},
     "output_type": "execute_result"
    }
   ],
   "source": [
    "# Merge the two data sets along zip code\n",
    "census_data_complete = pd.merge(\n",
    "    census_data_original, census_pd, how=\"left\", on=[\"Zipcode\", \"Zipcode\"])\n",
    "\n",
    "# Remove rows missing data\n",
    "census_data_complete = census_data_complete.dropna()\n",
    "\n",
    "# Visualize\n",
    "census_data_complete.head()"
   ]
  },
  {
   "cell_type": "markdown",
   "metadata": {},
   "source": [
    "## Heatmap of poverty rate"
   ]
  },
  {
   "cell_type": "code",
   "execution_count": 7,
   "metadata": {},
   "outputs": [],
   "source": [
    "# Configure gmaps with API key\n",
    "gmaps.configure(api_key=gkey)"
   ]
  },
  {
   "cell_type": "code",
   "execution_count": 8,
   "metadata": {},
   "outputs": [],
   "source": [
    "# Store 'Lat' and 'Lng' into  locations \n",
    "locations = census_data_complete[[\"Lat\", \"Lng\"]].astype(float)\n",
    "\n",
    "# Convert Poverty Rate to float and store\n",
    "poverty_rate = census_data_complete[\"Poverty Rate\"].astype(float)"
   ]
  },
  {
   "cell_type": "code",
   "execution_count": 9,
   "metadata": {},
   "outputs": [
    {
     "data": {
      "application/vnd.jupyter.widget-view+json": {
       "model_id": "bec0785e1b1c4fa5aaf44701f234326d",
       "version_major": 2,
       "version_minor": 0
      },
      "text/plain": [
       "Figure(layout=FigureLayout(height='420px'))"
      ]
     },
     "metadata": {},
     "output_type": "display_data"
    }
   ],
   "source": [
    "# Create a poverty Heatmap layer\n",
    "fig = gmaps.figure()\n",
    "\n",
    "heat_layer = gmaps.heatmap_layer(locations, weights=poverty_rate, \n",
    "                                 dissipating=False, max_intensity=100,\n",
    "                                 point_radius = 1)\n",
    "\n",
    "fig.add_layer(heat_layer)\n",
    "\n",
    "fig"
   ]
  },
  {
   "cell_type": "code",
   "execution_count": 12,
   "metadata": {},
   "outputs": [],
   "source": [
    "# Convert bank rate to list\n",
    "bank_rate = census_data_complete[\"Bank Count\"].tolist()"
   ]
  },
  {
   "cell_type": "code",
   "execution_count": 13,
   "metadata": {},
   "outputs": [
    {
     "data": {
      "application/vnd.jupyter.widget-view+json": {
       "model_id": "80dafd6ba72b42d5aeb689cd918747d6",
       "version_major": 2,
       "version_minor": 0
      },
      "text/plain": [
       "Figure(layout=FigureLayout(height='420px'))"
      ]
     },
     "metadata": {},
     "output_type": "display_data"
    }
   ],
   "source": [
    "# Create bank symbol layer\n",
    "bank_layer = gmaps.symbol_layer(\n",
    "    locations, fill_color='rgba(0, 150, 0, 0.4)',\n",
    "    stroke_color='rgba(0, 0, 150, 0.4)', scale=2,\n",
    "    info_box_content=[f\"Bank amount: {bank}\" for bank in bank_rate]\n",
    ")\n",
    "\n",
    "\n",
    "fig = gmaps.figure()\n",
    "fig.add_layer(bank_layer)\n",
    "\n",
    "fig"
   ]
  },
  {
   "cell_type": "code",
   "execution_count": 14,
   "metadata": {},
   "outputs": [
    {
     "data": {
      "application/vnd.jupyter.widget-view+json": {
       "model_id": "0e701480032c48af91c04ffd6a63c2de",
       "version_major": 2,
       "version_minor": 0
      },
      "text/plain": [
       "Figure(layout=FigureLayout(height='420px'))"
      ]
     },
     "metadata": {},
     "output_type": "display_data"
    }
   ],
   "source": [
    "# Create a combined map\n",
    "fig = gmaps.figure()\n",
    "\n",
    "fig.add_layer(heat_layer)\n",
    "fig.add_layer(bank_layer)\n",
    "\n",
    "fig"
   ]
  },
  {
   "cell_type": "code",
   "execution_count": null,
   "metadata": {},
   "outputs": [],
   "source": []
  }
 ],
 "metadata": {
  "kernelspec": {
   "display_name": "Python 3",
   "language": "python",
   "name": "python3"
  },
  "language_info": {
   "codemirror_mode": {
    "name": "ipython",
    "version": 3
   },
   "file_extension": ".py",
   "mimetype": "text/x-python",
   "name": "python",
   "nbconvert_exporter": "python",
   "pygments_lexer": "ipython3",
   "version": "3.7.7"
  }
 },
 "nbformat": 4,
 "nbformat_minor": 2
}
